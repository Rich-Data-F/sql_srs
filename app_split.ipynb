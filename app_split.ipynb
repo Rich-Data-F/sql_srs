{
 "cells": [
  {
   "cell_type": "code",
   "execution_count": 1,
   "metadata": {},
   "outputs": [],
   "source": [
    "# pylint: disable=missing-module-docstring\n",
    "\n",
    "import os\n",
    "import logging\n",
    "import duckdb\n",
    "import streamlit as st\n",
    "from datetime import date, timedelta"
   ]
  },
  {
   "cell_type": "code",
   "execution_count": 5,
   "metadata": {},
   "outputs": [
    {
     "data": {
      "text/plain": [
       "['.git',\n",
       " '.github',\n",
       " '.gitignore',\n",
       " 'answers',\n",
       " 'app.py',\n",
       " 'data',\n",
       " 'init_db.py',\n",
       " 'requirements.txt']"
      ]
     },
     "metadata": {},
     "output_type": "display_data"
    }
   ],
   "source": [
    "display(os.listdir())"
   ]
  },
  {
   "cell_type": "code",
   "execution_count": 4,
   "metadata": {},
   "outputs": [
    {
     "name": "stderr",
     "output_type": "stream",
     "text": [
      "ERROR:root:['.git', '.github', '.gitignore', 'answers', 'app.py', 'init_db.py', 'requirements.txt']\n",
      "ERROR:root:creating folder data\n"
     ]
    },
    {
     "name": "stdout",
     "output_type": "stream",
     "text": [
      "creating folder data\n"
     ]
    }
   ],
   "source": [
    "if \"data\" not in os.listdir():\n",
    "    print(\"creating folder data\")\n",
    "    logging.error(os.listdir())\n",
    "    logging.error(\"creating folder data\")\n",
    "    os.mkdir(\"data\")\n",
    "\n",
    "if \"exercises_sql_tables.duckdb\" not in os.listdir(\"data\"):\n",
    "    exec(open(\"init_db.py\").read())\n",
    "    # subprocess.run([\"python\", \"init_db.py\"])\n",
    "\n",
    "con = duckdb.connect(database=\"data/exercises_sql_tables.duckdb\", read_only=False)"
   ]
  },
  {
   "cell_type": "code",
   "execution_count": null,
   "metadata": {},
   "outputs": [],
   "source": [
    "def check_users_solution(user_query: str) -> None:\n",
    "    \"\"\"\n",
    "    Checks that user SQL query is correct by:\n",
    "    1: checking the columns\n",
    "    2: checking the values\n",
    "    :param user_query: a string containing the query inserted by the user\n",
    "    \"\"\"\n",
    "    result = con.execute(user_query).df()\n",
    "    st.dataframe(result)\n",
    "    try:\n",
    "        result = result[solution_df.columns]\n",
    "        st.dataframe(result.compare(solution_df))\n",
    "        if result.compare(solution_df).shape == (0, 0):\n",
    "            st.write(\"Correct !\")\n",
    "            st.balloons()\n",
    "    except KeyError as e:\n",
    "        st.write(\"Some columns are missing\")\n",
    "    n_lines_difference = result.shape[0] - solution_df.shape[0]\n",
    "    if n_lines_difference != 0:\n",
    "        st.write(\n",
    "            f\"result has a {n_lines_difference} lines difference with the solution_df\"\n",
    "        )\n",
    "\n",
    "\n",
    "with st.sidebar:\n",
    "    available_themes_df = con.execute(\"SELECT DISTINCT theme FROM memory_state\").df()\n",
    "    theme = st.selectbox(\n",
    "        \"What would you like to review?\",\n",
    "        available_themes_df[\"theme\"].unique(),\n",
    "        index=None,\n",
    "        placeholder=\"Select a theme...\",\n",
    "    )\n",
    "    if theme:\n",
    "        st.write(f\"You selected {theme}\")\n",
    "        select_exercise_query = f\"SELECT * FROM memory_state WHERE theme = '{theme}'\"\n",
    "    else:\n",
    "        select_exercise_query = f\"SELECT * FROM memory_state\"\n",
    "\n",
    "    exercise = (\n",
    "        con.execute(select_exercise_query)\n",
    "        .df()\n",
    "        .sort_values(\"last_reviewed\")\n",
    "        .reset_index(drop=True)\n",
    "    )\n",
    "    st.write(exercise)\n",
    "    exercise_name = exercise.loc[0, \"exercise_name\"]\n",
    "    with open(f\"answers/{exercise_name}.sql\", \"r\") as f:\n",
    "        answer = f.read()\n",
    "\n",
    "    solution_df = con.execute(answer).df()\n",
    "\n",
    "st.header(\"enter your code:\")\n",
    "form = st.form(\"my_form\")\n",
    "query = form.text_area(label=\"votre code SQL ici\", key=\"user_input\")\n",
    "form.form_submit_button(\"Submit\")\n",
    "\n",
    "if query:\n",
    "    check_users_solution(query)\n",
    "\n",
    "for n_days in [2, 7, 21]:\n",
    "    if st.button(f\"Revoir dans {n_days} jours\"):\n",
    "        next_review = date.today() + timedelta(days=n_days)\n",
    "        con.execute(\n",
    "            f\"UPDATE memory_state SET last_reviewed = '{next_review}' WHERE exercise_name = '{exercise_name}'\"\n",
    "        )\n",
    "        st.rerun()\n",
    "\n",
    "if st.button(\"Reset\"):\n",
    "    con.execute(f\"UPDATE memory_state SET last_reviewed = '1970-01-01'\")\n",
    "    st.rerun()\n",
    "\n",
    "\n",
    "tab2, tab3 = st.tabs([\"Tables\", \"Solution\"])\n",
    "with tab2:\n",
    "    exercise_tables = exercise.loc[0, \"tables\"]\n",
    "    for table in exercise_tables:\n",
    "        st.write(f\"table: {table}\")\n",
    "        df_table = con.execute(f\"SELECT * FROM {table}\").df()\n",
    "        st.dataframe(df_table)\n",
    "\n",
    "with tab3:\n",
    "    st.write(answer)"
   ]
  }
 ],
 "metadata": {
  "kernelspec": {
   "display_name": "Python 3",
   "language": "python",
   "name": "python3"
  },
  "language_info": {
   "codemirror_mode": {
    "name": "ipython",
    "version": 3
   },
   "file_extension": ".py",
   "mimetype": "text/x-python",
   "name": "python",
   "nbconvert_exporter": "python",
   "pygments_lexer": "ipython3",
   "version": "3.11.0"
  }
 },
 "nbformat": 4,
 "nbformat_minor": 2
}
